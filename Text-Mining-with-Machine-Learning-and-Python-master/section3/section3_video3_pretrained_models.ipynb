{
 "cells": [
  {
   "cell_type": "code",
   "execution_count": 1,
   "metadata": {
    "collapsed": false
   },
   "outputs": [],
   "source": [
    "from pprint import pprint"
   ]
  },
  {
   "cell_type": "markdown",
   "metadata": {},
   "source": [
    "# Using NLTK"
   ]
  },
  {
   "cell_type": "code",
   "execution_count": 2,
   "metadata": {
    "collapsed": true
   },
   "outputs": [],
   "source": [
    "from nltk import word_tokenize, pos_tag, ne_chunk"
   ]
  },
  {
   "cell_type": "markdown",
   "metadata": {},
   "source": [
    "### All good!"
   ]
  },
  {
   "cell_type": "code",
   "execution_count": 3,
   "metadata": {
    "collapsed": false
   },
   "outputs": [
    {
     "name": "stdout",
     "output_type": "stream",
     "text": [
      "(S\n",
      "  (PERSON Mark/NNP)\n",
      "  is/VBZ\n",
      "  working/VBG\n",
      "  at/IN\n",
      "  the/DT\n",
      "  (LOCATION South/NNP Africa/NNP)\n",
      "  offices/NNS\n",
      "  at/IN\n",
      "  (ORGANIZATION Google/NNP))\n"
     ]
    }
   ],
   "source": [
    "sentence = \"Mark is working at the South Africa offices at Google\"\n",
    "ne_tree = ne_chunk(pos_tag(word_tokenize(sentence)))\n",
    "print(ne_tree)"
   ]
  },
  {
   "cell_type": "markdown",
   "metadata": {},
   "source": [
    "### Not so good..."
   ]
  },
  {
   "cell_type": "code",
   "execution_count": 4,
   "metadata": {
    "collapsed": false
   },
   "outputs": [
    {
     "name": "stdout",
     "output_type": "stream",
     "text": [
      "(S\n",
      "  (GPE Donald/NNP)\n",
      "  is/VBZ\n",
      "  working/VBG\n",
      "  at/IN\n",
      "  the/DT\n",
      "  (GPE Netherlands/NNP)\n",
      "  offices/NNS\n",
      "  of/IN\n",
      "  (GPE Google/NNP))\n"
     ]
    }
   ],
   "source": [
    "sentence = \"Donald is working at the Netherlands offices of Google\"\n",
    "print(ne_chunk(pos_tag(word_tokenize(sentence))))"
   ]
  },
  {
   "cell_type": "markdown",
   "metadata": {},
   "source": [
    "### Include BILOU / IOB"
   ]
  },
  {
   "cell_type": "code",
   "execution_count": 5,
   "metadata": {
    "collapsed": true
   },
   "outputs": [],
   "source": [
    "from nltk.chunk import conlltags2tree, tree2conlltags"
   ]
  },
  {
   "cell_type": "code",
   "execution_count": 6,
   "metadata": {
    "collapsed": false
   },
   "outputs": [
    {
     "name": "stdout",
     "output_type": "stream",
     "text": [
      "[('Mark', 'NNP', 'B-PERSON'),\n",
      " ('is', 'VBZ', 'O'),\n",
      " ('working', 'VBG', 'O'),\n",
      " ('at', 'IN', 'O'),\n",
      " ('the', 'DT', 'O'),\n",
      " ('South', 'NNP', 'B-LOCATION'),\n",
      " ('Africa', 'NNP', 'I-LOCATION'),\n",
      " ('offices', 'NNS', 'O'),\n",
      " ('at', 'IN', 'O'),\n",
      " ('Google', 'NNP', 'B-ORGANIZATION')]\n"
     ]
    }
   ],
   "source": [
    "iob_tagged = tree2conlltags(ne_tree)\n",
    "pprint (iob_tagged)"
   ]
  },
  {
   "cell_type": "markdown",
   "metadata": {},
   "source": [
    "# Using Spacy"
   ]
  },
  {
   "cell_type": "code",
   "execution_count": 7,
   "metadata": {
    "collapsed": true
   },
   "outputs": [],
   "source": [
    "import spacy\n",
    "nlp = spacy.load(\"en_core_web_md\")"
   ]
  },
  {
   "cell_type": "code",
   "execution_count": 8,
   "metadata": {
    "collapsed": false
   },
   "outputs": [
    {
     "name": "stdout",
     "output_type": "stream",
     "text": [
      "[('Mark', 'PERSON'), ('South Africa', 'GPE'), ('Google', 'ORG')]\n"
     ]
    }
   ],
   "source": [
    "doc = nlp(\"Mark is working at the South Africa offices at Google\")\n",
    "pprint([(x.text, x.label_) for x in doc.ents])"
   ]
  },
  {
   "cell_type": "code",
   "execution_count": 9,
   "metadata": {
    "collapsed": false
   },
   "outputs": [
    {
     "name": "stdout",
     "output_type": "stream",
     "text": [
      "[('Donald', 'PERSON'), ('Netherlands', 'GPE'), ('Google', 'ORG')]\n"
     ]
    }
   ],
   "source": [
    "doc = nlp(\"Donald is working at the Netherlands offices of Google\")\n",
    "pprint([(x.text, x.label_) for x in doc.ents])"
   ]
  },
  {
   "cell_type": "markdown",
   "metadata": {},
   "source": [
    "### BILOU tags"
   ]
  },
  {
   "cell_type": "code",
   "execution_count": 10,
   "metadata": {
    "collapsed": false
   },
   "outputs": [
    {
     "name": "stdout",
     "output_type": "stream",
     "text": [
      "[(Donald, 'B', 'PERSON'),\n",
      " (is, 'O', ''),\n",
      " (working, 'O', ''),\n",
      " (at, 'O', ''),\n",
      " (the, 'O', ''),\n",
      " (Netherlands, 'B', 'GPE'),\n",
      " (offices, 'O', ''),\n",
      " (of, 'O', ''),\n",
      " (Google, 'B', 'ORG')]\n"
     ]
    }
   ],
   "source": [
    "pprint([(x, x.ent_iob_, x.ent_type_) for x in doc])"
   ]
  },
  {
   "cell_type": "code",
   "execution_count": null,
   "metadata": {
    "collapsed": true
   },
   "outputs": [],
   "source": []
  }
 ],
 "metadata": {
  "kernelspec": {
   "display_name": "Python 3",
   "language": "python",
   "name": "python3"
  },
  "language_info": {
   "codemirror_mode": {
    "name": "ipython",
    "version": 3
   },
   "file_extension": ".py",
   "mimetype": "text/x-python",
   "name": "python",
   "nbconvert_exporter": "python",
   "pygments_lexer": "ipython3",
   "version": "3.6.0"
  }
 },
 "nbformat": 4,
 "nbformat_minor": 2
}
