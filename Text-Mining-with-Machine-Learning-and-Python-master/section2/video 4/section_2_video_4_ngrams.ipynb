{
 "cells": [
  {
   "cell_type": "markdown",
   "metadata": {},
   "source": [
    "# No intelligence"
   ]
  },
  {
   "cell_type": "code",
   "execution_count": 1,
   "metadata": {
    "collapsed": true
   },
   "outputs": [],
   "source": [
    "from nltk import ngrams"
   ]
  },
  {
   "cell_type": "code",
   "execution_count": 2,
   "metadata": {
    "collapsed": false
   },
   "outputs": [
    {
     "name": "stdout",
     "output_type": "stream",
     "text": [
      "('oh', 'my')\n",
      "('my', 'god,')\n",
      "('god,', 'the')\n",
      "('the', 'chocolate')\n",
      "('chocolate', 'is')\n",
      "('is', '15%')\n",
      "('15%', 'of')\n",
      "('of', 'today')\n"
     ]
    }
   ],
   "source": [
    "sentence = \"oh my god, the chocolate is 15% of today\"\n",
    "n = 2\n",
    "bigrams = ngrams(sentence.split(), n)\n",
    "for grams in bigrams:\n",
    "    print( grams)"
   ]
  },
  {
   "cell_type": "markdown",
   "metadata": {},
   "source": [
    "# Some intelligence"
   ]
  },
  {
   "cell_type": "code",
   "execution_count": 3,
   "metadata": {
    "collapsed": true
   },
   "outputs": [],
   "source": [
    "from nltk import RegexpParser"
   ]
  },
  {
   "cell_type": "code",
   "execution_count": 4,
   "metadata": {
    "collapsed": true
   },
   "outputs": [],
   "source": [
    "chunkbiGram = r\"\"\"NA: {<NOUN><ADJ> }\n",
    "                        AN: {<ADJ><NOUN> }\n",
    "                        NN: {<NOUN><NOUN> }\n",
    "               \"\"\""
   ]
  },
  {
   "cell_type": "code",
   "execution_count": 5,
   "metadata": {
    "collapsed": false
   },
   "outputs": [],
   "source": [
    "chunkparserbigram = RegexpParser(chunkbiGram)"
   ]
  },
  {
   "cell_type": "code",
   "execution_count": 6,
   "metadata": {
    "collapsed": true
   },
   "outputs": [],
   "source": [
    "example = [('oh', 'INTJ'),\n",
    " ('my', 'INTJ'),\n",
    " ('god', 'INTJ'),\n",
    " (',', 'PUNCT'),\n",
    " ('the', 'DET'),\n",
    " ('dark', 'ADJ'),\n",
    " ('chocolate', 'NOUN'),\n",
    " ('is', 'VERB'),\n",
    " ('15', 'NUM'),\n",
    " ('%', 'NOUN'),\n",
    " ('of', 'ADP'),\n",
    " ('today', 'NOUN')]"
   ]
  },
  {
   "cell_type": "code",
   "execution_count": 7,
   "metadata": {
    "collapsed": true
   },
   "outputs": [],
   "source": [
    "chunked = chunkparserbigram.parse(example)"
   ]
  },
  {
   "cell_type": "code",
   "execution_count": 8,
   "metadata": {
    "collapsed": false,
    "scrolled": true
   },
   "outputs": [
    {
     "name": "stdout",
     "output_type": "stream",
     "text": [
      "found adjective + noun\n",
      "['dark', 'chocolate']\n"
     ]
    }
   ],
   "source": [
    "for subtree in chunked.subtrees():\n",
    "    if subtree.label() == 'NA':\n",
    "        print('found noun + adjective')\n",
    "        print([leaf[0] for leaf in subtree.leaves()])\n",
    "    elif subtree.label() == 'AN':\n",
    "        print('found adjective + noun')\n",
    "        print([leaf[0] for leaf in subtree.leaves()])\n",
    "    elif subtree.label() == 'NN':\n",
    "        print('found noun + noun')\n",
    "        print([leaf[0] for leaf in subtree.leaves()])"
   ]
  },
  {
   "cell_type": "markdown",
   "metadata": {},
   "source": [
    "# Intelligence: statistical approach"
   ]
  },
  {
   "cell_type": "markdown",
   "metadata": {},
   "source": [
    "### Using NLTK"
   ]
  },
  {
   "cell_type": "code",
   "execution_count": 9,
   "metadata": {
    "collapsed": true
   },
   "outputs": [],
   "source": [
    "import itertools\n",
    "from nltk.corpus import genesis\n",
    "from nltk.collocations import BigramCollocationFinder\n",
    "from nltk.metrics import BigramAssocMeasures"
   ]
  },
  {
   "cell_type": "code",
   "execution_count": 10,
   "metadata": {
    "collapsed": false
   },
   "outputs": [],
   "source": [
    "def bigram_word_feats(words, score_fn=BigramAssocMeasures.chi_sq, n=200):\n",
    "    bigram_finder = BigramCollocationFinder.from_words(words)\n",
    "    bigrams = bigram_finder.nbest(score_fn, n)\n",
    "    return bigrams"
   ]
  },
  {
   "cell_type": "code",
   "execution_count": 11,
   "metadata": {
    "collapsed": false
   },
   "outputs": [],
   "source": [
    "bigrams = bigram_word_feats(genesis.words('english-web.txt'), n=25)"
   ]
  },
  {
   "cell_type": "code",
   "execution_count": 12,
   "metadata": {
    "collapsed": false,
    "scrolled": true
   },
   "outputs": [
    {
     "data": {
      "text/plain": [
       "[('Allon', 'Bacuth'),\n",
       " ('Ashteroth', 'Karnaim'),\n",
       " ('Baal', 'Hanan'),\n",
       " ('Beer', 'Lahai'),\n",
       " ('Ben', 'Ammi'),\n",
       " ('En', 'Mishpat'),\n",
       " ('Jegar', 'Sahadutha'),\n",
       " ('Kiriath', 'Arba'),\n",
       " ('Lahai', 'Roi'),\n",
       " ('Most', 'High'),\n",
       " ('Salt', 'Sea'),\n",
       " ('Whoever', 'sheds'),\n",
       " ('appoint', 'overseers'),\n",
       " ('aromatic', 'resin'),\n",
       " ('cutting', 'instrument'),\n",
       " ('direct', 'descendants'),\n",
       " ('droves', 'apart'),\n",
       " ('during', 'mating'),\n",
       " ('falls', 'backward'),\n",
       " ('fig', 'leaves'),\n",
       " ('flaming', 'torch'),\n",
       " ('fresh', 'poplar'),\n",
       " ('fully', 'pay'),\n",
       " ('fury', 'turns'),\n",
       " ('gray', 'hairs')]"
      ]
     },
     "execution_count": 12,
     "metadata": {},
     "output_type": "execute_result"
    }
   ],
   "source": [
    "bigrams"
   ]
  },
  {
   "cell_type": "markdown",
   "metadata": {},
   "source": [
    "### Using Spacy"
   ]
  },
  {
   "cell_type": "code",
   "execution_count": 13,
   "metadata": {
    "collapsed": true
   },
   "outputs": [],
   "source": [
    "from nltk.corpus import inaugural"
   ]
  },
  {
   "cell_type": "code",
   "execution_count": 14,
   "metadata": {
    "collapsed": false
   },
   "outputs": [
    {
     "name": "stderr",
     "output_type": "stream",
     "text": [
      "C:\\Users\\peter\\Anaconda3\\lib\\site-packages\\gensim\\utils.py:1167: UserWarning: detected Windows; aliasing chunkize to chunkize_serial\n",
      "  warnings.warn(\"detected Windows; aliasing chunkize to chunkize_serial\")\n"
     ]
    }
   ],
   "source": [
    "from gensim.models.phrases import Phraser, Phrases"
   ]
  },
  {
   "cell_type": "code",
   "execution_count": 15,
   "metadata": {
    "collapsed": true
   },
   "outputs": [],
   "source": [
    "all_words = [inaugural.words(x) for x in inaugural.fileids()]"
   ]
  },
  {
   "cell_type": "code",
   "execution_count": 16,
   "metadata": {
    "collapsed": false
   },
   "outputs": [],
   "source": [
    "phrases = Phrases(all_words, min_count= 100, threshold= 10)"
   ]
  },
  {
   "cell_type": "code",
   "execution_count": 17,
   "metadata": {
    "collapsed": true
   },
   "outputs": [],
   "source": [
    "bigram = Phraser(phrases)"
   ]
  },
  {
   "cell_type": "code",
   "execution_count": 18,
   "metadata": {
    "collapsed": false
   },
   "outputs": [
    {
     "data": {
      "text/plain": [
       "['Finest', 'people', 'of', 'the', 'United_States']"
      ]
     },
     "execution_count": 18,
     "metadata": {},
     "output_type": "execute_result"
    }
   ],
   "source": [
    "bigram[[\"Finest\",\"people\",\"of\",\"the\",\"United\",\"States\"]]"
   ]
  },
  {
   "cell_type": "code",
   "execution_count": null,
   "metadata": {
    "collapsed": true
   },
   "outputs": [],
   "source": []
  }
 ],
 "metadata": {
  "kernelspec": {
   "display_name": "Python 3",
   "language": "python",
   "name": "python3"
  },
  "language_info": {
   "codemirror_mode": {
    "name": "ipython",
    "version": 3
   },
   "file_extension": ".py",
   "mimetype": "text/x-python",
   "name": "python",
   "nbconvert_exporter": "python",
   "pygments_lexer": "ipython3",
   "version": "3.6.0"
  }
 },
 "nbformat": 4,
 "nbformat_minor": 2
}
