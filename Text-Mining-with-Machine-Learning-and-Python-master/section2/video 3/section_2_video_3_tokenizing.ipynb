{
 "cells": [
  {
   "cell_type": "code",
   "execution_count": 1,
   "metadata": {
    "collapsed": false
   },
   "outputs": [],
   "source": [
    "from pprint import pprint"
   ]
  },
  {
   "cell_type": "markdown",
   "metadata": {},
   "source": [
    "# Tokenization"
   ]
  },
  {
   "cell_type": "markdown",
   "metadata": {},
   "source": [
    "### Using NLTK"
   ]
  },
  {
   "cell_type": "code",
   "execution_count": 2,
   "metadata": {
    "collapsed": true
   },
   "outputs": [],
   "source": [
    "import nltk"
   ]
  },
  {
   "cell_type": "code",
   "execution_count": 3,
   "metadata": {
    "collapsed": true
   },
   "outputs": [],
   "source": [
    "test_sentence = \"It's too cold outside, we'd be better watering our neighbour's plants tomorrow\""
   ]
  },
  {
   "cell_type": "code",
   "execution_count": 4,
   "metadata": {
    "collapsed": false
   },
   "outputs": [
    {
     "data": {
      "text/plain": [
       "['It',\n",
       " \"'s\",\n",
       " 'too',\n",
       " 'cold',\n",
       " 'outside',\n",
       " ',',\n",
       " 'we',\n",
       " \"'d\",\n",
       " 'be',\n",
       " 'better',\n",
       " 'watering',\n",
       " 'our',\n",
       " 'neighbour',\n",
       " \"'s\",\n",
       " 'plants',\n",
       " 'tomorrow']"
      ]
     },
     "execution_count": 4,
     "metadata": {},
     "output_type": "execute_result"
    }
   ],
   "source": [
    "nltk.word_tokenize(test_sentence)"
   ]
  },
  {
   "cell_type": "markdown",
   "metadata": {},
   "source": [
    "### Using Spacy"
   ]
  },
  {
   "cell_type": "code",
   "execution_count": 5,
   "metadata": {
    "collapsed": false
   },
   "outputs": [],
   "source": [
    "import spacy\n",
    "nlp_en = spacy.load(\"en_core_web_sm\")"
   ]
  },
  {
   "cell_type": "code",
   "execution_count": 6,
   "metadata": {
    "collapsed": true
   },
   "outputs": [],
   "source": [
    "doc = nlp_en(test_sentence)"
   ]
  },
  {
   "cell_type": "code",
   "execution_count": 7,
   "metadata": {
    "collapsed": false
   },
   "outputs": [
    {
     "data": {
      "text/plain": [
       "['It',\n",
       " \"'s\",\n",
       " 'too',\n",
       " 'cold',\n",
       " 'outside',\n",
       " ',',\n",
       " 'we',\n",
       " \"'d\",\n",
       " 'be',\n",
       " 'better',\n",
       " 'watering',\n",
       " 'our',\n",
       " 'neighbour',\n",
       " \"'s\",\n",
       " 'plants',\n",
       " 'tomorrow']"
      ]
     },
     "execution_count": 7,
     "metadata": {},
     "output_type": "execute_result"
    }
   ],
   "source": [
    "[x.text for x in doc]"
   ]
  },
  {
   "cell_type": "markdown",
   "metadata": {},
   "source": [
    "# POS tagging"
   ]
  },
  {
   "cell_type": "markdown",
   "metadata": {},
   "source": [
    "### Using NLTK"
   ]
  },
  {
   "cell_type": "code",
   "execution_count": 8,
   "metadata": {
    "collapsed": false
   },
   "outputs": [
    {
     "data": {
      "text/plain": [
       "[('It', 'PRP'),\n",
       " (\"'s\", 'VBZ'),\n",
       " ('too', 'RB'),\n",
       " ('cold', 'JJ'),\n",
       " ('outside', 'JJ'),\n",
       " (',', ','),\n",
       " ('we', 'PRP'),\n",
       " (\"'d\", 'MD'),\n",
       " ('be', 'VB'),\n",
       " ('better', 'RB'),\n",
       " ('watering', 'VBG'),\n",
       " ('our', 'PRP$'),\n",
       " ('neighbour', 'NN'),\n",
       " (\"'s\", 'POS'),\n",
       " ('plants', 'NNS'),\n",
       " ('tomorrow', 'NN')]"
      ]
     },
     "execution_count": 8,
     "metadata": {},
     "output_type": "execute_result"
    }
   ],
   "source": [
    "tokens = nltk.word_tokenize(test_sentence)\n",
    "nltk.pos_tag(tokens)"
   ]
  },
  {
   "cell_type": "markdown",
   "metadata": {},
   "source": [
    "### Using Spacy"
   ]
  },
  {
   "cell_type": "code",
   "execution_count": 9,
   "metadata": {
    "collapsed": false
   },
   "outputs": [
    {
     "data": {
      "text/plain": [
       "[('It', 'PRON'),\n",
       " (\"'s\", 'VERB'),\n",
       " ('too', 'ADV'),\n",
       " ('cold', 'ADJ'),\n",
       " ('outside', 'ADV'),\n",
       " (',', 'PUNCT'),\n",
       " ('we', 'PRON'),\n",
       " (\"'d\", 'VERB'),\n",
       " ('be', 'VERB'),\n",
       " ('better', 'ADJ'),\n",
       " ('watering', 'VERB'),\n",
       " ('our', 'ADJ'),\n",
       " ('neighbour', 'NOUN'),\n",
       " (\"'s\", 'PART'),\n",
       " ('plants', 'NOUN'),\n",
       " ('tomorrow', 'NOUN')]"
      ]
     },
     "execution_count": 9,
     "metadata": {},
     "output_type": "execute_result"
    }
   ],
   "source": [
    "[(x.text, x.pos_) for x in doc]"
   ]
  },
  {
   "cell_type": "markdown",
   "metadata": {},
   "source": [
    "# Lemmatization"
   ]
  },
  {
   "cell_type": "markdown",
   "metadata": {},
   "source": [
    "### Using NLTK"
   ]
  },
  {
   "cell_type": "code",
   "execution_count": 10,
   "metadata": {
    "collapsed": true
   },
   "outputs": [],
   "source": [
    "import nltk\n",
    "from nltk.stem.wordnet import WordNetLemmatizer\n",
    "from nltk.corpus.reader.wordnet import NOUN, VERB, ADJ"
   ]
  },
  {
   "cell_type": "code",
   "execution_count": 11,
   "metadata": {
    "collapsed": true
   },
   "outputs": [],
   "source": [
    "lemmatizer = WordNetLemmatizer()"
   ]
  },
  {
   "cell_type": "code",
   "execution_count": 12,
   "metadata": {
    "collapsed": true
   },
   "outputs": [],
   "source": [
    "tokens = nltk.word_tokenize(test_sentence)\n",
    "tags = nltk.pos_tag(tokens)"
   ]
  },
  {
   "cell_type": "code",
   "execution_count": 13,
   "metadata": {
    "collapsed": false
   },
   "outputs": [
    {
     "name": "stdout",
     "output_type": "stream",
     "text": [
      "It\n",
      "'s\n",
      "too\n",
      "cold\n",
      "outside\n",
      ",\n",
      "we\n",
      "'d\n",
      "be\n",
      "better\n",
      "water\n",
      "our\n",
      "neighbour\n",
      "'s\n",
      "plant\n",
      "tomorrow\n"
     ]
    }
   ],
   "source": [
    "for i, token in enumerate(tokens):\n",
    "    pos_tag = tags[i][1]\n",
    "\n",
    "    if pos_tag.startswith(\"N\"):\n",
    "        lemma = lemmatizer.lemmatize(token, pos=NOUN)\n",
    "    elif pos_tag.startswith(\"V\"):\n",
    "        lemma = lemmatizer.lemmatize(token, pos=VERB)\n",
    "    elif pos_tag.startswith(\"J\"):\n",
    "        lemma = lemmatizer.lemmatize(token, pos=ADJ)\n",
    "    else:\n",
    "        lemma = token\n",
    "        \n",
    "    print(lemma)"
   ]
  },
  {
   "cell_type": "markdown",
   "metadata": {},
   "source": [
    "### Using Spacy"
   ]
  },
  {
   "cell_type": "code",
   "execution_count": 14,
   "metadata": {
    "collapsed": false
   },
   "outputs": [
    {
     "data": {
      "text/plain": [
       "['-PRON-',\n",
       " 'have',\n",
       " 'too',\n",
       " 'cold',\n",
       " 'outside',\n",
       " ',',\n",
       " '-PRON-',\n",
       " 'would',\n",
       " 'be',\n",
       " 'well',\n",
       " 'water',\n",
       " '-PRON-',\n",
       " 'neighbour',\n",
       " 'have',\n",
       " 'plant',\n",
       " 'tomorrow']"
      ]
     },
     "execution_count": 14,
     "metadata": {},
     "output_type": "execute_result"
    }
   ],
   "source": [
    "[x.lemma_ for x in doc]"
   ]
  },
  {
   "cell_type": "code",
   "execution_count": null,
   "metadata": {
    "collapsed": true
   },
   "outputs": [],
   "source": []
  }
 ],
 "metadata": {
  "kernelspec": {
   "display_name": "Python 3",
   "language": "python",
   "name": "python3"
  },
  "language_info": {
   "codemirror_mode": {
    "name": "ipython",
    "version": 3
   },
   "file_extension": ".py",
   "mimetype": "text/x-python",
   "name": "python",
   "nbconvert_exporter": "python",
   "pygments_lexer": "ipython3",
   "version": "3.6.0"
  }
 },
 "nbformat": 4,
 "nbformat_minor": 2
}
