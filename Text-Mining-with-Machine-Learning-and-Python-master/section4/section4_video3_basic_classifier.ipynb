{
 "cells": [
  {
   "cell_type": "markdown",
   "metadata": {},
   "source": [
    "## 0. Imports"
   ]
  },
  {
   "cell_type": "code",
   "execution_count": 109,
   "metadata": {
    "collapsed": true
   },
   "outputs": [],
   "source": [
    "from sklearn.datasets import fetch_20newsgroups\n",
    "from sklearn.feature_extraction.text import TfidfVectorizer\n",
    "from sklearn.svm import LinearSVC\n",
    "from sklearn.metrics import accuracy_score, recall_score, precision_score, f1_score\n",
    "from sklearn.model_selection import GridSearchCV"
   ]
  },
  {
   "cell_type": "code",
   "execution_count": 32,
   "metadata": {
    "collapsed": true
   },
   "outputs": [],
   "source": [
    "import spacy\n",
    "from nltk.corpus import stopwords\n",
    "import string"
   ]
  },
  {
   "cell_type": "code",
   "execution_count": 106,
   "metadata": {
    "collapsed": true
   },
   "outputs": [],
   "source": [
    "from collections import Counter\n",
    "import matplotlib.pyplot as plt\n",
    "import seaborn as sns\n",
    "import numpy as np"
   ]
  },
  {
   "cell_type": "markdown",
   "metadata": {},
   "source": [
    "## 1. Get data"
   ]
  },
  {
   "cell_type": "code",
   "execution_count": 3,
   "metadata": {
    "collapsed": false
   },
   "outputs": [],
   "source": [
    "newsgroups_train = fetch_20newsgroups(subset='train')\n",
    "newsgroups_test = fetch_20newsgroups(subset='test')"
   ]
  },
  {
   "cell_type": "markdown",
   "metadata": {},
   "source": [
    "## 2. Data processing"
   ]
  },
  {
   "cell_type": "code",
   "execution_count": 4,
   "metadata": {
    "collapsed": true
   },
   "outputs": [],
   "source": [
    "x_train = newsgroups_train.data\n",
    "y_train = newsgroups_train.target"
   ]
  },
  {
   "cell_type": "code",
   "execution_count": 60,
   "metadata": {
    "collapsed": true
   },
   "outputs": [],
   "source": [
    "x_test = newsgroups_test.data\n",
    "y_test = newsgroups_test.target"
   ]
  },
  {
   "cell_type": "code",
   "execution_count": 23,
   "metadata": {
    "collapsed": false
   },
   "outputs": [
    {
     "data": {
      "text/plain": [
       "'From: shd2001@andy.bgsu.edu (Sherlette Dixon)\\nSubject: Christianity & Atheism:  an update\\nOrganization: BGSU\\nLines: 32\\n\\nFirst, I would like to thank all who sent me their opinions on the matter\\nat hand.  All advice was taken to heart, if not directly used.  My friend\\nfound out about the matter quite accidently.  After reading some of my\\nmail, I quit from the mail reader & went about my business.  I must have\\ntrashed my mail improperly, because he got on the same terminal the next\\nday & saw my old messages.  He thought they were responses to a post he\\nplaced in alt.atheism earlier that week, so he read some of them before\\nrealizing that they were for me.  I got a message from him the next day; he\\napologized for reading my mail & said that he did not want to appear to be\\na snoop.  He said that he would be willing to talk to me about his views &\\ndidn\\'t mind doing so, especially with a friend.  So we did.  I neither\\nchanged his mind nor did he change mine, as that was not the point.  Now he\\nknows where I\\'m coming from & now I know where he\\'s coming from.  And all\\nthat I can do is pray for him, as I\\'ve always done.\\n\\nI believe the reason that he & I \"click\" instead of \"bash\" heads is because\\nI see Christianity as a tool for revolution, & not a tool for maintaining\\nthe status quo.  To be quite blunt, I have more of a reason to reject God\\nthan he does just by the fact that I am an African-American female. \\nChristianity & religion have been used as tools to separate my people from\\nthe true knowledge of our history & the wealth of our contributions to the\\nworld society.  The \"kitchen of heaven\" was all we had to look forward to\\nduring the slave days, & this mentality & second-class status still exists\\ntoday.  I, too, have rejected\\nan aspect of Christianity----that of the estabished church.  Too much\\nhypocricy exists behind the walls of \"God\\'s house\" beginning with the\\nimages of a white Jesus to that of the members:  praise God on Sunday &\\nraise hell beginning Monday.  God-willing, I will find a church home where\\nI can feel comfortable & at-home, but I don\\'t see it happening anytime\\nsoon.\\n\\nSherlette \\n'"
      ]
     },
     "execution_count": 23,
     "metadata": {},
     "output_type": "execute_result"
    }
   ],
   "source": [
    "x_train[120]"
   ]
  },
  {
   "cell_type": "markdown",
   "metadata": {},
   "source": [
    "So most of the data processing:\n",
    "- stopwords\n",
    "- punctuation\n",
    "- punctuation chains\n",
    "- single character words\n",
    "- stuff like '\\n\\t\\t\\t\\t\\t\\t' and '\\n'"
   ]
  },
  {
   "cell_type": "markdown",
   "metadata": {},
   "source": [
    "## 3. Document processing"
   ]
  },
  {
   "cell_type": "code",
   "execution_count": 8,
   "metadata": {
    "collapsed": true
   },
   "outputs": [],
   "source": [
    "nlp = spacy.load(\"en_core_web_md\")"
   ]
  },
  {
   "cell_type": "code",
   "execution_count": 25,
   "metadata": {
    "collapsed": false
   },
   "outputs": [
    {
     "name": "stdout",
     "output_type": "stream",
     "text": [
      "Wall time: 17min 34s\n"
     ]
    }
   ],
   "source": [
    "%%time\n",
    "x_train_nlp = [[x.lemma_ for x in nlp(y)] for y in x_train]"
   ]
  },
  {
   "cell_type": "code",
   "execution_count": 61,
   "metadata": {
    "collapsed": false
   },
   "outputs": [
    {
     "name": "stdout",
     "output_type": "stream",
     "text": [
      "Wall time: 11min 31s\n"
     ]
    }
   ],
   "source": [
    "%%time\n",
    "x_test_nlp = [[x.lemma_ for x in nlp(y)] for y in x_test]"
   ]
  },
  {
   "cell_type": "markdown",
   "metadata": {},
   "source": [
    "## 2 bis. Data processing: take 2"
   ]
  },
  {
   "cell_type": "markdown",
   "metadata": {},
   "source": [
    "### 2.1. Remove stopwords"
   ]
  },
  {
   "cell_type": "code",
   "execution_count": 28,
   "metadata": {
    "collapsed": true
   },
   "outputs": [],
   "source": [
    "stop_en = stopwords.words(\"english\")"
   ]
  },
  {
   "cell_type": "code",
   "execution_count": 29,
   "metadata": {
    "collapsed": true
   },
   "outputs": [],
   "source": [
    "x_cleaned_1 = []\n",
    "for x in x_train_nlp:\n",
    "    x_cleaned_1.append([y for y in x if not y in stop_en])"
   ]
  },
  {
   "cell_type": "code",
   "execution_count": 62,
   "metadata": {
    "collapsed": true
   },
   "outputs": [],
   "source": [
    "x_cleaned_1_test = []\n",
    "for x in x_test_nlp:\n",
    "    x_cleaned_1_test.append([y for y in x if not y in stop_en])"
   ]
  },
  {
   "cell_type": "markdown",
   "metadata": {},
   "source": [
    "### 2.2. Remove punct"
   ]
  },
  {
   "cell_type": "code",
   "execution_count": 33,
   "metadata": {
    "collapsed": true
   },
   "outputs": [],
   "source": [
    "x_cleaned_2 = []\n",
    "for x in x_cleaned_1:\n",
    "    x_cleaned_2.append([y for y in x if not y in list(string.punctuation)])"
   ]
  },
  {
   "cell_type": "code",
   "execution_count": 63,
   "metadata": {
    "collapsed": true
   },
   "outputs": [],
   "source": [
    "x_cleaned_2_test = []\n",
    "for x in x_cleaned_1_test:\n",
    "    x_cleaned_2_test.append([y for y in x if not y in list(string.punctuation)])"
   ]
  },
  {
   "cell_type": "markdown",
   "metadata": {},
   "source": [
    "### 2.3 Remove other useless stuff"
   ]
  },
  {
   "cell_type": "code",
   "execution_count": 35,
   "metadata": {
    "collapsed": true
   },
   "outputs": [],
   "source": [
    "useless = [\"-PRON-\"]"
   ]
  },
  {
   "cell_type": "code",
   "execution_count": 36,
   "metadata": {
    "collapsed": false
   },
   "outputs": [],
   "source": [
    "x_cleaned_3 = []\n",
    "for x in x_cleaned_2:\n",
    "    x_cleaned_3.append([y for y in x if not y in useless])"
   ]
  },
  {
   "cell_type": "code",
   "execution_count": 64,
   "metadata": {
    "collapsed": true
   },
   "outputs": [],
   "source": [
    "x_cleaned_3_test = []\n",
    "for x in x_cleaned_2_test:\n",
    "    x_cleaned_3_test.append([y for y in x if not y in useless])"
   ]
  },
  {
   "cell_type": "markdown",
   "metadata": {},
   "source": [
    "### 2.4 Remove \\n and '--'"
   ]
  },
  {
   "cell_type": "code",
   "execution_count": 37,
   "metadata": {
    "collapsed": true
   },
   "outputs": [],
   "source": [
    "x_cleaned_4 = []\n",
    "for x in x_cleaned_3:\n",
    "    x_cleaned_4.append([y for y in x if not (\"--\" in y or '\\n' in y) ])"
   ]
  },
  {
   "cell_type": "code",
   "execution_count": 65,
   "metadata": {
    "collapsed": true
   },
   "outputs": [],
   "source": [
    "x_cleaned_4_test = []\n",
    "for x in x_cleaned_3_test:\n",
    "    x_cleaned_4_test.append([y for y in x if not (\"--\" in y or '\\n' in y) ])"
   ]
  },
  {
   "cell_type": "markdown",
   "metadata": {},
   "source": [
    "### 2.5 Join together"
   ]
  },
  {
   "cell_type": "code",
   "execution_count": 39,
   "metadata": {
    "collapsed": false
   },
   "outputs": [],
   "source": [
    "x_cleaned = [\" \".join(y) for y in x_cleaned_4]"
   ]
  },
  {
   "cell_type": "code",
   "execution_count": 66,
   "metadata": {
    "collapsed": true
   },
   "outputs": [],
   "source": [
    "x_cleaned_test = [\" \".join(y) for y in x_cleaned_4_test]"
   ]
  },
  {
   "cell_type": "code",
   "execution_count": 124,
   "metadata": {
    "collapsed": false
   },
   "outputs": [
    {
     "data": {
      "text/plain": [
       "\"From: lerxst@wam.umd.edu (where's my thing)\\nSubject: WHAT car is this!?\\nNntp-Posting-Host: rac3.wam.umd.edu\\nOrganization: University of Maryland, College Park\\nLines: 15\\n\\n I was wondering if anyone out there could enlighten me on this car I saw\\nthe other day. It was a 2-door sports car, looked to be from the late 60s/\\nearly 70s. It was called a Bricklin. The doors were really small. In addition,\\nthe front bumper was separate from the rest of the body. This is \\nall I know. If anyone can tellme a model name, engine specs, years\\nof production, where this car is made, history, or whatever info you\\nhave on this funky looking car, please e-mail.\\n\\nThanks,\\n- IL\\n   ---- brought to you by your neighborhood Lerxst ----\\n\\n\\n\\n\\n\""
      ]
     },
     "execution_count": 124,
     "metadata": {},
     "output_type": "execute_result"
    }
   ],
   "source": [
    "x_train[0]"
   ]
  },
  {
   "cell_type": "code",
   "execution_count": 123,
   "metadata": {
    "collapsed": false
   },
   "outputs": [
    {
     "data": {
      "text/plain": [
       "'lerxst@wam.umd.edu thing subject car nntp posting host rac3.wam.umd.edu organization university maryland college park line 15 wonder anyone enlighten car see day 2-door sport car look late 60s/ early 70 call bricklin door really small addition front bumper separate rest body know anyone tellme model name engine spec year production car make history whatev info funky look car please e mail thank il bring neighborhood lerxst'"
      ]
     },
     "execution_count": 123,
     "metadata": {},
     "output_type": "execute_result"
    }
   ],
   "source": [
    "x_cleaned[0]"
   ]
  },
  {
   "cell_type": "markdown",
   "metadata": {},
   "source": [
    "## 4. Splitting"
   ]
  },
  {
   "cell_type": "markdown",
   "metadata": {},
   "source": [
    "Already taken care of :-)"
   ]
  },
  {
   "cell_type": "code",
   "execution_count": 43,
   "metadata": {
    "collapsed": false
   },
   "outputs": [],
   "source": [
    "cnt = Counter(y_train)"
   ]
  },
  {
   "cell_type": "code",
   "execution_count": 48,
   "metadata": {
    "collapsed": false
   },
   "outputs": [
    {
     "data": {
      "text/plain": [
       "Counter({0: 480,\n",
       "         1: 584,\n",
       "         2: 591,\n",
       "         3: 590,\n",
       "         4: 578,\n",
       "         5: 593,\n",
       "         6: 585,\n",
       "         7: 594,\n",
       "         8: 598,\n",
       "         9: 597,\n",
       "         10: 600,\n",
       "         11: 595,\n",
       "         12: 591,\n",
       "         13: 594,\n",
       "         14: 593,\n",
       "         15: 599,\n",
       "         16: 546,\n",
       "         17: 564,\n",
       "         18: 465,\n",
       "         19: 377})"
      ]
     },
     "execution_count": 48,
     "metadata": {},
     "output_type": "execute_result"
    }
   ],
   "source": [
    "cnt"
   ]
  },
  {
   "cell_type": "markdown",
   "metadata": {},
   "source": [
    "## 5. Feature representation"
   ]
  },
  {
   "cell_type": "code",
   "execution_count": 55,
   "metadata": {
    "collapsed": false
   },
   "outputs": [
    {
     "data": {
      "text/plain": [
       "(11314, 130107)"
      ]
     },
     "execution_count": 55,
     "metadata": {},
     "output_type": "execute_result"
    }
   ],
   "source": [
    "vec = TfidfVectorizer()\n",
    "x_train_vec = vec.fit_transform(x_train)\n",
    "x_train_vec.shape"
   ]
  },
  {
   "cell_type": "code",
   "execution_count": 75,
   "metadata": {
    "collapsed": false
   },
   "outputs": [
    {
     "data": {
      "text/plain": [
       "(11314, 119777)"
      ]
     },
     "execution_count": 75,
     "metadata": {},
     "output_type": "execute_result"
    }
   ],
   "source": [
    "vec = TfidfVectorizer()\n",
    "x_train_vec = vec.fit_transform(x_cleaned)\n",
    "x_train_vec.shape"
   ]
  },
  {
   "cell_type": "markdown",
   "metadata": {},
   "source": [
    "## 6. Metric and algo"
   ]
  },
  {
   "cell_type": "code",
   "execution_count": 99,
   "metadata": {
    "collapsed": false
   },
   "outputs": [],
   "source": [
    "clf = LinearSVC(C=1, multi_class='ovr', dual=True)"
   ]
  },
  {
   "cell_type": "code",
   "execution_count": 100,
   "metadata": {
    "collapsed": false
   },
   "outputs": [
    {
     "name": "stdout",
     "output_type": "stream",
     "text": [
      "Wall time: 2.24 s\n"
     ]
    },
    {
     "data": {
      "text/plain": [
       "LinearSVC(C=1, class_weight=None, dual=True, fit_intercept=True,\n",
       "     intercept_scaling=1, loss='squared_hinge', max_iter=1000,\n",
       "     multi_class='ovr', penalty='l2', random_state=None, tol=0.0001,\n",
       "     verbose=0)"
      ]
     },
     "execution_count": 100,
     "metadata": {},
     "output_type": "execute_result"
    }
   ],
   "source": [
    "%%time\n",
    "clf.fit(x_train_vec, y_train)"
   ]
  },
  {
   "cell_type": "markdown",
   "metadata": {},
   "source": [
    "## 7. Validation"
   ]
  },
  {
   "cell_type": "code",
   "execution_count": 101,
   "metadata": {
    "collapsed": true
   },
   "outputs": [],
   "source": [
    "x_test_vec = vec.transform(x_cleaned_test)"
   ]
  },
  {
   "cell_type": "code",
   "execution_count": 102,
   "metadata": {
    "collapsed": true
   },
   "outputs": [],
   "source": [
    "y_predict = clf.predict(x_test_vec)"
   ]
  },
  {
   "cell_type": "code",
   "execution_count": 103,
   "metadata": {
    "collapsed": false
   },
   "outputs": [
    {
     "name": "stdout",
     "output_type": "stream",
     "text": [
      "accuracy:  0.8538236856080722\n",
      "precision:  0.8538236856080722\n",
      "recall:  0.8538236856080722\n",
      "f1:  0.8538236856080722\n"
     ]
    }
   ],
   "source": [
    "print(\"accuracy: \", accuracy_score(y_pred=y_predict, y_true=y_test))\n",
    "print(\"precision: \", precision_score(y_pred=y_predict, y_true=y_test, average= \"micro\"))\n",
    "print(\"recall: \", recall_score(y_pred=y_predict, y_true=y_test, average= \"micro\"))\n",
    "print(\"f1: \", f1_score(y_pred=y_predict, y_true=y_test, average= \"micro\"))"
   ]
  },
  {
   "cell_type": "code",
   "execution_count": 107,
   "metadata": {
    "collapsed": true
   },
   "outputs": [],
   "source": [
    "def show_top10(classifier, vectorizer, categories):\n",
    "    feature_names = np.asarray(vectorizer.get_feature_names())\n",
    "    for i, category in enumerate(categories):\n",
    "        top10 = np.argsort(classifier.coef_[i])[-10:]\n",
    "        print(\"%s: %s\" % (category, \" \".join(feature_names[top10])))"
   ]
  },
  {
   "cell_type": "code",
   "execution_count": 108,
   "metadata": {
    "collapsed": false
   },
   "outputs": [
    {
     "name": "stdout",
     "output_type": "stream",
     "text": [
      "alt.atheism: mangoe rushdie jaeger atheists cobb wingate islamic atheist keith atheism\n",
      "comp.graphics: animation cview tiff polygon pov 3do graphics 3d image graphic\n",
      "comp.os.ms-windows.misc: nt winqvt download ini file ax win3 driver cica windows\n",
      "comp.sys.ibm.pc.hardware: jumper scsi monitor fastmicro irq vlb 486 pc ide gateway\n",
      "comp.sys.mac.hardware: se lciii iisi lc centris duo quadra apple powerbook mac\n",
      "comp.windows.x: expo xpert xlib window lcs server xterm x11r5 widget motif\n",
      "misc.forsale: camera include distribution wanted condition sell ship forsale offer sale\n",
      "rec.autos: chevrolet engine truck auto convertible warning dealer toyota automotive car\n",
      "rec.motorcycles: harley kawasaki dog helmet rider bmw ride motorcycle bike dod\n",
      "rec.sport.baseball: braves giants tigers stadium cub yankee pitch sox phillies baseball\n",
      "rec.sport.hockey: cup bruins goal coach espn play team playoff nhl hockey\n",
      "sci.crypt: encrypt nsa crypto security wiretap pgp tap encryption key clipper\n",
      "sci.electronics: ee explode power scope voltage 256k electronic electronics 8051 circuit\n",
      "sci.med: pitt krillean patient medical cancer treatment photography disease msg doctor\n",
      "sci.space: sci dietz prb rocket shuttle planet launch moon orbit space\n",
      "soc.religion.christian: marry fisher geneva hell prayer christian christ church rutgers athos\n",
      "talk.politics.guns: batf fbi feustel cathy atf waco handgun weapon firearm gun\n",
      "talk.politics.mideast: argic holocaust adl armenia serdar arab turkish armenian israel israeli\n",
      "talk.politics.misc: teel drug president drieux gay optilink clinton tax cramer kaldis\n",
      "talk.religion.misc: thyagi psyrobtw 666 christian koresh biblical hudson weiss morality beast\n"
     ]
    }
   ],
   "source": [
    "show_top10(clf, vec, newsgroups_train.target_names)"
   ]
  },
  {
   "cell_type": "markdown",
   "metadata": {},
   "source": [
    "## 8. Parameter tuning"
   ]
  },
  {
   "cell_type": "code",
   "execution_count": 114,
   "metadata": {
    "collapsed": false
   },
   "outputs": [],
   "source": [
    "parameters = {'C':[0.01, 0.05, 0.1, 0.25, 0.5, 0.75, 1, 1.5, 2], \"dual\":[True,False]}"
   ]
  },
  {
   "cell_type": "code",
   "execution_count": 115,
   "metadata": {
    "collapsed": true
   },
   "outputs": [],
   "source": [
    "clf = LinearSVC()"
   ]
  },
  {
   "cell_type": "code",
   "execution_count": 116,
   "metadata": {
    "collapsed": true
   },
   "outputs": [],
   "source": [
    "grid = GridSearchCV(clf, parameters)"
   ]
  },
  {
   "cell_type": "code",
   "execution_count": 118,
   "metadata": {
    "collapsed": false
   },
   "outputs": [
    {
     "data": {
      "text/plain": [
       "GridSearchCV(cv=None, error_score='raise',\n",
       "       estimator=LinearSVC(C=1.0, class_weight=None, dual=True, fit_intercept=True,\n",
       "     intercept_scaling=1, loss='squared_hinge', max_iter=1000,\n",
       "     multi_class='ovr', penalty='l2', random_state=None, tol=0.0001,\n",
       "     verbose=0),\n",
       "       fit_params=None, iid=True, n_jobs=1,\n",
       "       param_grid={'C': [0.01, 0.05, 0.1, 0.25, 0.5, 0.75, 1, 1.5, 2], 'dual': [True, False]},\n",
       "       pre_dispatch='2*n_jobs', refit=True, return_train_score='warn',\n",
       "       scoring=None, verbose=0)"
      ]
     },
     "execution_count": 118,
     "metadata": {},
     "output_type": "execute_result"
    }
   ],
   "source": [
    "grid.fit(x_train_vec, y_train)"
   ]
  },
  {
   "cell_type": "code",
   "execution_count": 119,
   "metadata": {
    "collapsed": false
   },
   "outputs": [
    {
     "data": {
      "text/plain": [
       "{'C': 1.5, 'dual': True}"
      ]
     },
     "execution_count": 119,
     "metadata": {},
     "output_type": "execute_result"
    }
   ],
   "source": [
    "grid.best_params_"
   ]
  },
  {
   "cell_type": "code",
   "execution_count": 122,
   "metadata": {
    "collapsed": false
   },
   "outputs": [
    {
     "data": {
      "text/plain": [
       "0.9164751635142302"
      ]
     },
     "execution_count": 122,
     "metadata": {},
     "output_type": "execute_result"
    }
   ],
   "source": [
    "grid.best_score_"
   ]
  },
  {
   "cell_type": "markdown",
   "metadata": {},
   "source": [
    "## 9. Into production"
   ]
  },
  {
   "cell_type": "markdown",
   "metadata": {},
   "source": [
    "See video 4.5 ;-)"
   ]
  }
 ],
 "metadata": {
  "kernelspec": {
   "display_name": "Python 3",
   "language": "python",
   "name": "python3"
  },
  "language_info": {
   "codemirror_mode": {
    "name": "ipython",
    "version": 3
   },
   "file_extension": ".py",
   "mimetype": "text/x-python",
   "name": "python",
   "nbconvert_exporter": "python",
   "pygments_lexer": "ipython3",
   "version": "3.6.0"
  }
 },
 "nbformat": 4,
 "nbformat_minor": 2
}
